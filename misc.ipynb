{
 "cells": [
  {
   "cell_type": "code",
   "execution_count": null,
   "id": "bd260aac",
   "metadata": {},
   "outputs": [],
   "source": [
    "# import pandas as pd\n",
    "\n",
    "# # Load test data\n",
    "# test = pd.read_csv(\"test_data.csv\")\n",
    "\n",
    "# # Identify call and put IV columns\n",
    "# call_iv_cols = [col for col in test.columns if col.startswith(\"call_iv_\")]\n",
    "# put_iv_cols = [col for col in test.columns if col.startswith(\"put_iv_\")]\n",
    "\n",
    "# # Calculate number of non-NaN values per row for each\n",
    "# test['call_iv_count'] = test[call_iv_cols].notna().sum(axis=1)\n",
    "# test['put_iv_count'] = test[put_iv_cols].notna().sum(axis=1)\n",
    "\n",
    "# # Calculate the average across all rows\n",
    "# avg_call_iv_present = test['call_iv_count'].mean()\n",
    "# avg_put_iv_present = test['put_iv_count'].mean()\n",
    "\n",
    "# print(f\"Average number of call IV values per row: {avg_call_iv_present:.2f}\")\n",
    "# print(f\"Average number of put IV values per row: {avg_put_iv_present:.2f}\")\n"
   ]
  },
  {
   "cell_type": "code",
   "execution_count": 12,
   "id": "79f62da4",
   "metadata": {},
   "outputs": [
    {
     "name": "stdout",
     "output_type": "stream",
     "text": [
      "Null values per column:\n",
      "timestamp        0\n",
      "call_iv_24000    0\n",
      "call_iv_24100    0\n",
      "call_iv_24200    0\n",
      "call_iv_24300    0\n",
      "call_iv_24400    0\n",
      "call_iv_24500    0\n",
      "call_iv_24600    0\n",
      "call_iv_24700    0\n",
      "call_iv_24800    0\n",
      "call_iv_24900    0\n",
      "call_iv_25000    0\n",
      "call_iv_25100    0\n",
      "call_iv_25200    0\n",
      "call_iv_25300    0\n",
      "call_iv_25400    0\n",
      "call_iv_25500    0\n",
      "call_iv_25600    0\n",
      "call_iv_25700    0\n",
      "call_iv_25800    0\n",
      "call_iv_25900    0\n",
      "call_iv_26000    0\n",
      "call_iv_26100    0\n",
      "call_iv_26200    0\n",
      "call_iv_26300    0\n",
      "call_iv_26400    0\n",
      "call_iv_26500    0\n",
      "put_iv_23000     0\n",
      "put_iv_23100     0\n",
      "put_iv_23200     0\n",
      "put_iv_23300     0\n",
      "put_iv_23400     0\n",
      "put_iv_23500     0\n",
      "put_iv_23600     0\n",
      "put_iv_23700     0\n",
      "put_iv_23800     0\n",
      "put_iv_23900     0\n",
      "put_iv_24000     0\n",
      "put_iv_24100     0\n",
      "put_iv_24200     0\n",
      "put_iv_24300     0\n",
      "put_iv_24400     0\n",
      "put_iv_24500     0\n",
      "put_iv_24600     0\n",
      "put_iv_24700     0\n",
      "put_iv_24800     0\n",
      "put_iv_24900     0\n",
      "put_iv_25000     0\n",
      "put_iv_25100     0\n",
      "put_iv_25200     0\n",
      "put_iv_25300     0\n",
      "put_iv_25400     0\n",
      "put_iv_25500     0\n",
      "dtype: int64\n",
      "\n",
      "Total null values in the entire CSV: 0\n"
     ]
    }
   ],
   "source": [
    "import pandas as pd\n",
    "\n",
    "# Load the CSV file\n",
    "df = pd.read_csv('v1_2.csv')\n",
    "\n",
    "# Count null values per column\n",
    "null_counts = df.isnull().sum()\n",
    "\n",
    "# Print the result\n",
    "print(\"Null values per column:\")\n",
    "print(null_counts)\n",
    "\n",
    "# Optionally, total null values in the entire DataFrame\n",
    "total_nulls = df.isnull().sum().sum()\n",
    "print(f\"\\nTotal null values in the entire CSV: {total_nulls}\")\n"
   ]
  },
  {
   "cell_type": "code",
   "execution_count": 2,
   "id": "d2d9197d",
   "metadata": {},
   "outputs": [
    {
     "name": "stdout",
     "output_type": "stream",
     "text": [
      "Null values filled with row-wise averages, excluding 'timestamp'.\n"
     ]
    }
   ],
   "source": [
    "import pandas as pd\n",
    "\n",
    "# Load the CSV file\n",
    "df = pd.read_csv('v1.csv')\n",
    "\n",
    "# Specify the column to exclude\n",
    "exclude_col = 'timestamp'\n",
    "\n",
    "# Separate the excluded column\n",
    "excluded = df[exclude_col]\n",
    "\n",
    "# Compute row-wise mean excluding the 'timestamp' column\n",
    "row_means = df.drop(columns=[exclude_col]).mean(axis=1)\n",
    "\n",
    "# Fill NaNs in numeric columns with corresponding row mean\n",
    "df_filled = df.drop(columns=[exclude_col]).T.fillna(row_means).T\n",
    "\n",
    "# Add back the excluded column\n",
    "df_filled[exclude_col] = excluded\n",
    "\n",
    "# Optional: Save to CSV\n",
    "df_filled.to_csv('v1_done.csv', index=False)\n",
    "\n",
    "print(\"Null values filled with row-wise averages, excluding 'timestamp'.\")\n"
   ]
  },
  {
   "cell_type": "code",
   "execution_count": 7,
   "id": "362ceb40",
   "metadata": {},
   "outputs": [
    {
     "name": "stdout",
     "output_type": "stream",
     "text": [
      "Null values filled and 'timestamp' column position preserved.\n"
     ]
    }
   ],
   "source": [
    "import pandas as pd\n",
    "\n",
    "# Load the CSV file\n",
    "df = pd.read_csv('v1.csv')\n",
    "\n",
    "# Specify the column to exclude\n",
    "exclude_col = 'timestamp'\n",
    "\n",
    "# Save the original column order\n",
    "original_columns = df.columns.tolist()\n",
    "\n",
    "# Separate the excluded column\n",
    "excluded = df[exclude_col]\n",
    "\n",
    "# Compute row-wise mean excluding the 'timestamp' column\n",
    "row_means = df.drop(columns=[exclude_col]).mean(axis=1)\n",
    "\n",
    "# Fill NaNs in numeric columns with corresponding row mean\n",
    "df_filled_numeric = df.drop(columns=[exclude_col]).T.fillna(row_means).T\n",
    "\n",
    "# Add back the excluded column\n",
    "df_filled_numeric[exclude_col] = excluded\n",
    "\n",
    "# Reorder columns to match original\n",
    "df_filled = df_filled_numeric[original_columns]\n",
    "\n",
    "# Save to CSV\n",
    "df_filled.to_csv('v1_done.csv', index=False)\n",
    "\n",
    "print(\"Null values filled and 'timestamp' column position preserved.\")\n"
   ]
  },
  {
   "cell_type": "code",
   "execution_count": null,
   "id": "a2fad320",
   "metadata": {},
   "outputs": [],
   "source": []
  }
 ],
 "metadata": {
  "kernelspec": {
   "display_name": ".venv",
   "language": "python",
   "name": "python3"
  },
  "language_info": {
   "codemirror_mode": {
    "name": "ipython",
    "version": 3
   },
   "file_extension": ".py",
   "mimetype": "text/x-python",
   "name": "python",
   "nbconvert_exporter": "python",
   "pygments_lexer": "ipython3",
   "version": "3.12.3"
  }
 },
 "nbformat": 4,
 "nbformat_minor": 5
}
